{
 "cells": [
  {
   "cell_type": "code",
   "execution_count": 55,
   "metadata": {},
   "outputs": [],
   "source": [
    "# Pandas\n",
    "import pandas as pd\n",
    "\n",
    "# SQL Alchemy\n",
    "from sqlalchemy import create_engine\n",
    "\n",
    "# Import Matplot lib\n",
    "import matplotlib\n",
    "from matplotlib import style\n",
    "style.use('seaborn')\n",
    "import matplotlib.pyplot as plt\n",
    "\n",
    "# Import user and password in cofig file\n",
    "from config import host, user, pw, port\n"
   ]
  },
  {
   "cell_type": "code",
   "execution_count": 2,
   "metadata": {},
   "outputs": [],
   "source": [
    "url = 'postgresql://{}:{}@{}:{}/{}'\n",
    "url = url.format(user, pw, host, port, 'employee')\n",
    "engine = create_engine(url)"
   ]
  },
  {
   "cell_type": "code",
   "execution_count": 42,
   "metadata": {},
   "outputs": [
    {
     "data": {
      "text/html": [
       "<div>\n",
       "<style scoped>\n",
       "    .dataframe tbody tr th:only-of-type {\n",
       "        vertical-align: middle;\n",
       "    }\n",
       "\n",
       "    .dataframe tbody tr th {\n",
       "        vertical-align: top;\n",
       "    }\n",
       "\n",
       "    .dataframe thead th {\n",
       "        text-align: right;\n",
       "    }\n",
       "</style>\n",
       "<table border=\"1\" class=\"dataframe\">\n",
       "  <thead>\n",
       "    <tr style=\"text-align: right;\">\n",
       "      <th></th>\n",
       "      <th>emp_id</th>\n",
       "      <th>first_name</th>\n",
       "      <th>last_name</th>\n",
       "      <th>salary</th>\n",
       "      <th>title_name</th>\n",
       "    </tr>\n",
       "  </thead>\n",
       "  <tbody>\n",
       "    <tr>\n",
       "      <th>0</th>\n",
       "      <td>57444</td>\n",
       "      <td>Berry</td>\n",
       "      <td>Babb</td>\n",
       "      <td>48973</td>\n",
       "      <td>Engineer</td>\n",
       "    </tr>\n",
       "    <tr>\n",
       "      <th>1</th>\n",
       "      <td>13616</td>\n",
       "      <td>Perry</td>\n",
       "      <td>Lorho</td>\n",
       "      <td>40000</td>\n",
       "      <td>Senior Engineer</td>\n",
       "    </tr>\n",
       "    <tr>\n",
       "      <th>2</th>\n",
       "      <td>240129</td>\n",
       "      <td>Roddy</td>\n",
       "      <td>Karnin</td>\n",
       "      <td>43548</td>\n",
       "      <td>Technique Leader</td>\n",
       "    </tr>\n",
       "    <tr>\n",
       "      <th>3</th>\n",
       "      <td>427958</td>\n",
       "      <td>Feixiong</td>\n",
       "      <td>Poujol</td>\n",
       "      <td>63377</td>\n",
       "      <td>Staff</td>\n",
       "    </tr>\n",
       "    <tr>\n",
       "      <th>4</th>\n",
       "      <td>35916</td>\n",
       "      <td>Wonhee</td>\n",
       "      <td>Talmon</td>\n",
       "      <td>40000</td>\n",
       "      <td>Senior Engineer</td>\n",
       "    </tr>\n",
       "  </tbody>\n",
       "</table>\n",
       "</div>"
      ],
      "text/plain": [
       "   emp_id first_name last_name  salary        title_name\n",
       "0   57444      Berry      Babb   48973          Engineer\n",
       "1   13616      Perry     Lorho   40000   Senior Engineer\n",
       "2  240129      Roddy    Karnin   43548  Technique Leader\n",
       "3  427958   Feixiong    Poujol   63377             Staff\n",
       "4   35916     Wonhee    Talmon   40000   Senior Engineer"
      ]
     },
     "execution_count": 42,
     "metadata": {},
     "output_type": "execute_result"
    }
   ],
   "source": [
    "#get the data from employees\n",
    "query = '''SELECT e.emp_id, e.first_name, e.last_name, s.salary, t.title_name \n",
    "FROM employees e \n",
    "INNER JOIN salary s \n",
    "ON (e.emp_id = s.emp_id)\n",
    "INNER JOIN titles t \n",
    "ON (e.emp_titleid = t.title_id)'''\n",
    "\n",
    "employee_df=pd.read_sql(query, engine)\n",
    "employee_df.head()"
   ]
  },
  {
   "cell_type": "code",
   "execution_count": 49,
   "metadata": {},
   "outputs": [
    {
     "name": "stdout",
     "output_type": "stream",
     "text": [
      "40000 129492\n"
     ]
    }
   ],
   "source": [
    "# Create bins in which to place values \n",
    "salary_min=employee_df[\"salary\"].min()\n",
    "salary_max=employee_df[\"salary\"].max()\n",
    "print(salary_min,salary_max)\n",
    "bins=[39999,50000,60000,70000,80000,90000,100000,110000,120000,130000]\n",
    "# Create labels for these bins\n",
    "group_labels = [\"<50000\", \"50000-59999\",\"60000-69999\",\"70000-79999\",\"80000-89999\",\"90000-99999\",\"100000-109999\",\"110000-119999\",\">120000\"]"
   ]
  },
  {
   "cell_type": "code",
   "execution_count": 50,
   "metadata": {},
   "outputs": [
    {
     "data": {
      "text/html": [
       "<div>\n",
       "<style scoped>\n",
       "    .dataframe tbody tr th:only-of-type {\n",
       "        vertical-align: middle;\n",
       "    }\n",
       "\n",
       "    .dataframe tbody tr th {\n",
       "        vertical-align: top;\n",
       "    }\n",
       "\n",
       "    .dataframe thead th {\n",
       "        text-align: right;\n",
       "    }\n",
       "</style>\n",
       "<table border=\"1\" class=\"dataframe\">\n",
       "  <thead>\n",
       "    <tr style=\"text-align: right;\">\n",
       "      <th></th>\n",
       "      <th>salary count</th>\n",
       "    </tr>\n",
       "    <tr>\n",
       "      <th>salary group</th>\n",
       "      <th></th>\n",
       "    </tr>\n",
       "  </thead>\n",
       "  <tbody>\n",
       "    <tr>\n",
       "      <th>&lt;50000</th>\n",
       "      <td>158472</td>\n",
       "    </tr>\n",
       "    <tr>\n",
       "      <th>50000-59999</th>\n",
       "      <td>57917</td>\n",
       "    </tr>\n",
       "    <tr>\n",
       "      <th>60000-69999</th>\n",
       "      <td>41405</td>\n",
       "    </tr>\n",
       "    <tr>\n",
       "      <th>70000-79999</th>\n",
       "      <td>24814</td>\n",
       "    </tr>\n",
       "    <tr>\n",
       "      <th>80000-89999</th>\n",
       "      <td>11844</td>\n",
       "    </tr>\n",
       "    <tr>\n",
       "      <th>90000-99999</th>\n",
       "      <td>4285</td>\n",
       "    </tr>\n",
       "    <tr>\n",
       "      <th>100000-109999</th>\n",
       "      <td>1068</td>\n",
       "    </tr>\n",
       "    <tr>\n",
       "      <th>110000-119999</th>\n",
       "      <td>195</td>\n",
       "    </tr>\n",
       "    <tr>\n",
       "      <th>&gt;120000</th>\n",
       "      <td>24</td>\n",
       "    </tr>\n",
       "  </tbody>\n",
       "</table>\n",
       "</div>"
      ],
      "text/plain": [
       "               salary count\n",
       "salary group               \n",
       "<50000               158472\n",
       "50000-59999           57917\n",
       "60000-69999           41405\n",
       "70000-79999           24814\n",
       "80000-89999           11844\n",
       "90000-99999            4285\n",
       "100000-109999          1068\n",
       "110000-119999           195\n",
       ">120000                  24"
      ]
     },
     "execution_count": 50,
     "metadata": {},
     "output_type": "execute_result"
    }
   ],
   "source": [
    "# Place the data series into a new column inside of the DataFrame\n",
    "employee_df[\"salary group\"] = pd.cut(employee_df[\"salary\"], bins, labels=group_labels)\n",
    "grouped_salary_df = employee_df.groupby('salary group')\n",
    "#count employees by group \n",
    "salary_count = grouped_salary_df[\"emp_id\"].count()\n",
    "#create a Data frame with the values\n",
    "plotrangesalary_df = pd.DataFrame({\"Salary Count\": salary_count})\n",
    "plotrangesalary_df"
   ]
  },
  {
   "cell_type": "code",
   "execution_count": 73,
   "metadata": {},
   "outputs": [
    {
     "data": {
      "image/png": "[encoded data removed]",
      "text/plain": [
       "<Figure size 576x396 with 1 Axes>"
      ]
     },
     "metadata": {},
     "output_type": "display_data"
    }
   ],
   "source": [
    "# Plot the dataframe as a horizontal bar chart\n",
    "plotrangesalary_df.plot.barh(title=\"Salary Rating\")\n",
    "plt.ylabel('Number of Employees')\n",
    "plt.tight_layout()\n",
    "plt.savefig(\"Images/chart_salaryrating.png\")\n",
    "plt.show()"
   ]
  },
  {
   "cell_type": "code",
   "execution_count": 59,
   "metadata": {},
   "outputs": [
    {
     "data": {
      "text/html": [
       "<div>\n",
       "<style scoped>\n",
       "    .dataframe tbody tr th:only-of-type {\n",
       "        vertical-align: middle;\n",
       "    }\n",
       "\n",
       "    .dataframe tbody tr th {\n",
       "        vertical-align: top;\n",
       "    }\n",
       "\n",
       "    .dataframe thead th {\n",
       "        text-align: right;\n",
       "    }\n",
       "</style>\n",
       "<table border=\"1\" class=\"dataframe\">\n",
       "  <thead>\n",
       "    <tr style=\"text-align: right;\">\n",
       "      <th></th>\n",
       "      <th>Salary Mean</th>\n",
       "    </tr>\n",
       "    <tr>\n",
       "      <th>title_name</th>\n",
       "      <th></th>\n",
       "    </tr>\n",
       "  </thead>\n",
       "  <tbody>\n",
       "    <tr>\n",
       "      <th>Assistant Engineer</th>\n",
       "      <td>48564.434447</td>\n",
       "    </tr>\n",
       "    <tr>\n",
       "      <th>Engineer</th>\n",
       "      <td>48535.336511</td>\n",
       "    </tr>\n",
       "    <tr>\n",
       "      <th>Manager</th>\n",
       "      <td>51531.041667</td>\n",
       "    </tr>\n",
       "    <tr>\n",
       "      <th>Senior Engineer</th>\n",
       "      <td>48506.799871</td>\n",
       "    </tr>\n",
       "    <tr>\n",
       "      <th>Senior Staff</th>\n",
       "      <td>58550.172704</td>\n",
       "    </tr>\n",
       "    <tr>\n",
       "      <th>Staff</th>\n",
       "      <td>58465.382850</td>\n",
       "    </tr>\n",
       "    <tr>\n",
       "      <th>Technique Leader</th>\n",
       "      <td>48582.896092</td>\n",
       "    </tr>\n",
       "  </tbody>\n",
       "</table>\n",
       "</div>"
      ],
      "text/plain": [
       "                     Salary Mean\n",
       "title_name                      \n",
       "Assistant Engineer  48564.434447\n",
       "Engineer            48535.336511\n",
       "Manager             51531.041667\n",
       "Senior Engineer     48506.799871\n",
       "Senior Staff        58550.172704\n",
       "Staff               58465.382850\n",
       "Technique Leader    48582.896092"
      ]
     },
     "execution_count": 59,
     "metadata": {},
     "output_type": "execute_result"
    }
   ],
   "source": [
    "#group by title\n",
    "grouped_title_df = employee_df.groupby('title_name')\n",
    "#count employees by title\n",
    "salary_mean = grouped_title_df[\"salary\"].mean()\n",
    "#create a Data frame with the values\n",
    "plottitlesalary_df = pd.DataFrame({\"Salary Mean\": salary_mean})\n",
    "plottitlesalary_df"
   ]
  },
  {
   "cell_type": "code",
   "execution_count": 74,
   "metadata": {},
   "outputs": [
    {
     "data": {
      "image/png": "[encoded data removed]",
      "text/plain": [
       "<Figure size 576x396 with 1 Axes>"
      ]
     },
     "metadata": {},
     "output_type": "display_data"
    }
   ],
   "source": [
    "# Plot the dataframe as a horizontal bar chart using pandas plotting\n",
    "plottitlesalary_df.plot.barh(title=\"Salary Mean by Title\")\n",
    "plt.ylabel('Title Name')\n",
    "plt.tight_layout()\n",
    "plt.savefig(\"Images/chart_salarymeanbytitle.png\")\n",
    "plt.show()"
   ]
  },
  {
   "cell_type": "code",
   "execution_count": null,
   "metadata": {},
   "outputs": [],
   "source": []
  }
 ],
 "metadata": {
  "kernelspec": {
   "display_name": "Python 3",
   "language": "python",
   "name": "python3"
  },
  "language_info": {
   "codemirror_mode": {
    "name": "ipython",
    "version": 3
   },
   "file_extension": ".py",
   "mimetype": "text/x-python",
   "name": "python",
   "nbconvert_exporter": "python",
   "pygments_lexer": "ipython3",
   "version": "3.6.10"
  }
 },
 "nbformat": 4,
 "nbformat_minor": 4
}
